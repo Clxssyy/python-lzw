{
 "cells": [
  {
   "cell_type": "code",
   "execution_count": 225,
   "id": "f7560448",
   "metadata": {},
   "outputs": [],
   "source": [
    "# DO NOT delete this cell. \n",
    "# \n",
    "# This is the name of the file to be compressed.  \n",
    "# Yes, you can create your own test cases and you should.\n",
    "\n",
    "filename = \"bible2.txt\""
   ]
  },
  {
   "cell_type": "code",
   "execution_count": 226,
   "id": "dad37c88",
   "metadata": {},
   "outputs": [],
   "source": [
    "# LZW/ Your code \n",
    "\n",
    "\n"
   ]
  },
  {
   "cell_type": "code",
   "execution_count": 227,
   "id": "f3da3f06",
   "metadata": {},
   "outputs": [
    {
     "name": "stdout",
     "output_type": "stream",
     "text": [
      "bible2.txt\n",
      "bible2.txt.lzw\n"
     ]
    }
   ],
   "source": [
    "# you will compress the file named filename, and save the compressed as filename+\".lzw\"\n",
    "# keep the function name\n",
    "def LZW_compress(fname):\n",
    "    print(fname)\n",
    "    print(fname+\".lzw\")\n",
    "\n",
    "    # Read in file\n",
    "    with open(fname, \"rb\") as file:\n",
    "        data = file.read()\n",
    "\n",
    "    dictionary_size = 2 ** 12\n",
    "    dictionary = {bytes([i]): i for i in range(256)}\n",
    "    next_code = 256\n",
    "\n",
    "    # Compression algorithm\n",
    "    compressed_data = bytearray()\n",
    "    current_sequence = b\"\"\n",
    "    for byte in data:\n",
    "        sequence_plus_byte = current_sequence + bytes([byte])\n",
    "        if sequence_plus_byte in dictionary:\n",
    "            current_sequence = sequence_plus_byte\n",
    "        else:\n",
    "            compressed_data.extend(int.to_bytes(dictionary[current_sequence], 2, 'big'))\n",
    "            # Add new sequence to the dictionary\n",
    "            if next_code < dictionary_size:\n",
    "                dictionary[sequence_plus_byte] = next_code\n",
    "                next_code += 1\n",
    "            current_sequence = bytes([byte])\n",
    "\n",
    "    compressed_data.extend(int.to_bytes(dictionary[current_sequence], 2, 'big'))\n",
    "\n",
    "    # Write compressed data to file\n",
    "    with open(fname + \".lzw\", \"wb\") as file:\n",
    "        file.write(compressed_data)\n",
    "\n",
    "    return\n",
    "\n",
    "# keep this line\n",
    "LZW_compress(filename)"
   ]
  },
  {
   "cell_type": "code",
   "execution_count": 228,
   "id": "9c1c9ee8",
   "metadata": {},
   "outputs": [
    {
     "name": "stdout",
     "output_type": "stream",
     "text": [
      "bible2.txt.lzw\n",
      "bible2.txt.2\n"
     ]
    }
   ],
   "source": [
    "# you will compress the file named filename, and save the compressed as filename+\".lzw\"\n",
    "# keep the function name\n",
    "def LZW_expand(fname):\n",
    "    print(fname)\n",
    "    print(fname[:-4]+\".2\")\n",
    "\n",
    "    # Read in file\n",
    "    with open(fname, \"rb\") as file:\n",
    "        data = file.read()\n",
    "\n",
    "    dictionary_size = 2 ** 12\n",
    "    dictionary = {i: bytes([i]) for i in range(256)}\n",
    "    next_code = 256\n",
    "\n",
    "    # Expansion algorithm\n",
    "    expanded_data = bytearray()\n",
    "    current_sequence = dictionary[int.from_bytes(data[:2], 'big')]\n",
    "    expanded_data.extend(current_sequence)\n",
    "    for i in range(2, len(data), 2):\n",
    "        code = int.from_bytes(data[i:i+2], 'big')\n",
    "        if code in dictionary:\n",
    "            sequence = dictionary[code]\n",
    "        elif code == next_code:\n",
    "            sequence = current_sequence + bytes([current_sequence[0]])\n",
    "\n",
    "        expanded_data.extend(sequence)\n",
    "        dictionary[next_code] = current_sequence + bytes([sequence[0]])\n",
    "        next_code += 1\n",
    "        current_sequence = sequence\n",
    "\n",
    "    # Write expanded data to file\n",
    "    with open(fname[:-4] + \".2\", \"wb\") as file:\n",
    "        file.write(expanded_data)\n",
    "\n",
    "# keep this line\n",
    "LZW_expand(filename +\".lzw\")"
   ]
  },
  {
   "cell_type": "code",
   "execution_count": 229,
   "id": "17fa652f",
   "metadata": {},
   "outputs": [
    {
     "name": "stdout",
     "output_type": "stream",
     "text": [
      "bible2.txt\n",
      "bible2.txt.lzw2\n"
     ]
    }
   ],
   "source": [
    "# keep the function name\n",
    "def LZW_modified_compress(fname):\n",
    "    print(fname)\n",
    "    print(fname+\".lzw2\")\n",
    "\n",
    "    # Read in file\n",
    "    with open(fname, \"rb\") as file:\n",
    "        data = file.read()\n",
    "\n",
    "    code_length = 9\n",
    "    dictionary_size = 2 ** code_length\n",
    "    dictionary = {bytes([i]): i for i in range(256)}\n",
    "    next_code = 256\n",
    "\n",
    "    # Compression algorithm with gradually increasing code length\n",
    "    compressed_data = bytearray()\n",
    "    current_sequence = b\"\"\n",
    "    for byte in data:\n",
    "        sequence_plus_byte = current_sequence + bytes([byte])\n",
    "        if sequence_plus_byte in dictionary:\n",
    "            current_sequence = sequence_plus_byte\n",
    "        else:\n",
    "            compressed_data.extend(int.to_bytes(dictionary[current_sequence], 2, 'big'))\n",
    "            # Increase code length gradually up to 16 bits\n",
    "            if next_code < dictionary_size and next_code < 2 ** 16:\n",
    "                code_length = len(bin(next_code)) - 2\n",
    "                dictionary[sequence_plus_byte] = next_code\n",
    "                next_code += 1\n",
    "            current_sequence = bytes([byte])\n",
    "\n",
    "    compressed_data.extend(int.to_bytes(dictionary[current_sequence], 2, 'big'))\n",
    "\n",
    "    # Write compressed data to file\n",
    "    with open(fname + \".lzw2\", \"wb\") as file:\n",
    "        file.write(compressed_data)\n",
    "\n",
    "    return\n",
    "\n",
    "# keep this line\n",
    "LZW_modified_compress(filename)"
   ]
  },
  {
   "cell_type": "code",
   "execution_count": 230,
   "id": "ccc7088d",
   "metadata": {},
   "outputs": [
    {
     "name": "stdout",
     "output_type": "stream",
     "text": [
      "bible2.txt.lzw2\n",
      "bible2.txt.2M\n"
     ]
    }
   ],
   "source": [
    "# keep the function name\n",
    "def LZW_modified_expand(fname):\n",
    "    print(fname)\n",
    "    print(fname[:-5]+\".2M\")\n",
    "    \n",
    "    # Read in file\n",
    "    with open(fname, \"rb\") as file:\n",
    "        data = file.read()\n",
    "\n",
    "    code_length = 9\n",
    "    dictionary_size = 2 ** code_length\n",
    "    dictionary = {i: bytes([i]) for i in range(256)}\n",
    "    next_code = 256\n",
    "\n",
    "    # Expansion algorithm with gradually increasing code length\n",
    "    expanded_data = bytearray()\n",
    "    current_sequence = dictionary[int.from_bytes(data[:2], 'big')]\n",
    "    expanded_data.extend(current_sequence)\n",
    "\n",
    "    for i in range(2, len(data), 2):\n",
    "        code = int.from_bytes(data[i:i+2], 'big')\n",
    "        if code in dictionary:\n",
    "            sequence = dictionary[code]\n",
    "        elif code == next_code:\n",
    "            sequence = current_sequence + bytes([current_sequence[0]])\n",
    "\n",
    "        expanded_data.extend(sequence)\n",
    "        # Increase code length gradually up to 16 bits\n",
    "        if next_code < dictionary_size and next_code < 2 ** 16:\n",
    "            code_length = len(bin(next_code)) - 2\n",
    "            dictionary[next_code] = current_sequence + bytes([sequence[0]])\n",
    "            next_code += 1\n",
    "        current_sequence = sequence\n",
    "\n",
    "    # Write expanded data to file\n",
    "    with open(fname[:-5] + \".2M\", \"wb\") as file:\n",
    "        file.write(expanded_data)\n",
    "\n",
    "    return\n",
    "\n",
    "# keep this line\n",
    "LZW_modified_expand(filename+\".lzw2\")"
   ]
  },
  {
   "cell_type": "code",
   "execution_count": null,
   "id": "4dae7220",
   "metadata": {},
   "outputs": [],
   "source": []
  }
 ],
 "metadata": {
  "kernelspec": {
   "display_name": "Python 3 (ipykernel)",
   "language": "python",
   "name": "python3"
  },
  "language_info": {
   "codemirror_mode": {
    "name": "ipython",
    "version": 3
   },
   "file_extension": ".py",
   "mimetype": "text/x-python",
   "name": "python",
   "nbconvert_exporter": "python",
   "pygments_lexer": "ipython3",
   "version": "3.10.12"
  }
 },
 "nbformat": 4,
 "nbformat_minor": 5
}
